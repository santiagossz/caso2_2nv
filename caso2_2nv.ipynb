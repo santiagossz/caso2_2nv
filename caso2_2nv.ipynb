{
 "cells": [
  {
   "cell_type": "markdown",
   "id": "outer-polish",
   "metadata": {
    "slideshow": {
     "slide_type": "slide"
    }
   },
   "source": [
    "Santiago Suárez Sampayo\n",
    "\n",
    "25-01-2020"
   ]
  },
  {
   "cell_type": "markdown",
   "id": "institutional-pittsburgh",
   "metadata": {
    "slideshow": {
     "slide_type": "slide"
    }
   },
   "source": [
    "# Análisis de las ventas de vehículos vendidos en Craiglist\n",
    "\n",
    "El siguiente notebook busca responder los siguientes 4 puntos sobre los registros de vehículos vendidos a través de Craiglist: \n",
    "1. ¿Cuántas **regiones** diferentes hay y cuántos registros hay por cada **región**?\n",
    "2. Generar un archivo con los registros que están **completos**, descartando aquellos que tienen alguno de sus campos **nulos**.\n",
    "3. ¿Cuáles registros cuentan con el **price >= 15000** y la condición del vehículo sea **good** o **excellent**.\n",
    "4. ¿Cuántos vehículos **azules** manufacturados por **Chevrolet** hay?\n",
    "\n",
    "\n"
   ]
  },
  {
   "cell_type": "markdown",
   "id": "fantastic-intake",
   "metadata": {
    "slideshow": {
     "slide_type": "slide"
    }
   },
   "source": [
    "## Data\n",
    "Los datos fueron tomados de [Kaggle](https://www.kaggle.com/austinreese/craigslist-carstrucks-data) y contienen información relevante provista por *Craiglist* sobre las **ventas de vehículos** en su plataforma.  \n",
    "\n",
    "Los datos que se muestran corresponen al id, precio, condición, manufacturero, año y 20 categorías más sobre cada registro de ventas. \n",
    "\n",
    "\n"
   ]
  },
  {
   "cell_type": "markdown",
   "id": "funded-fairy",
   "metadata": {
    "slideshow": {
     "slide_type": "slide"
    }
   },
   "source": [
    "## Outline\n",
    "1. Data Cleaning\n",
    "2. Análisis \n",
    "    - Respuesta a cada punto\n",
    "    - Gráficas\n",
    "3. Conclusión\n"
   ]
  },
  {
   "cell_type": "code",
   "execution_count": 1,
   "id": "framed-steam",
   "metadata": {
    "slideshow": {
     "slide_type": "slide"
    }
   },
   "outputs": [],
   "source": [
    "# Se importan las librerías requeridas\n",
    "import numpy as np\n",
    "import pandas as pd\n",
    "import matplotlib.pyplot as plt"
   ]
  },
  {
   "cell_type": "code",
   "execution_count": 2,
   "id": "wanted-wireless",
   "metadata": {
    "slideshow": {
     "slide_type": "subslide"
    }
   },
   "outputs": [],
   "source": [
    "# Primero creamos en nuestro notebook un dataframe llamado ventas con los datos provistos por Kaggle\n",
    "# Index_col =0 -- permite no tener dos index columns \n",
    "ventas = pd.read_csv(\"vehicles.csv\", index_col=0)\n"
   ]
  },
  {
   "cell_type": "markdown",
   "id": "consistent-conducting",
   "metadata": {
    "slideshow": {
     "slide_type": "slide"
    }
   },
   "source": [
    "**Antes de empezar, un poco de contexto**"
   ]
  },
  {
   "cell_type": "code",
   "execution_count": 3,
   "id": "stupid-drama",
   "metadata": {
    "slideshow": {
     "slide_type": "subslide"
    }
   },
   "outputs": [
    {
     "data": {
      "text/html": [
       "<div>\n",
       "<style scoped>\n",
       "    .dataframe tbody tr th:only-of-type {\n",
       "        vertical-align: middle;\n",
       "    }\n",
       "\n",
       "    .dataframe tbody tr th {\n",
       "        vertical-align: top;\n",
       "    }\n",
       "\n",
       "    .dataframe thead th {\n",
       "        text-align: right;\n",
       "    }\n",
       "</style>\n",
       "<table border=\"1\" class=\"dataframe\">\n",
       "  <thead>\n",
       "    <tr style=\"text-align: right;\">\n",
       "      <th></th>\n",
       "      <th>id</th>\n",
       "      <th>url</th>\n",
       "      <th>region</th>\n",
       "      <th>region_url</th>\n",
       "      <th>price</th>\n",
       "      <th>year</th>\n",
       "      <th>manufacturer</th>\n",
       "      <th>model</th>\n",
       "      <th>condition</th>\n",
       "      <th>cylinders</th>\n",
       "      <th>...</th>\n",
       "      <th>drive</th>\n",
       "      <th>size</th>\n",
       "      <th>type</th>\n",
       "      <th>paint_color</th>\n",
       "      <th>image_url</th>\n",
       "      <th>description</th>\n",
       "      <th>state</th>\n",
       "      <th>lat</th>\n",
       "      <th>long</th>\n",
       "      <th>posting_date</th>\n",
       "    </tr>\n",
       "  </thead>\n",
       "  <tbody>\n",
       "    <tr>\n",
       "      <th>0</th>\n",
       "      <td>7240372487</td>\n",
       "      <td>https://auburn.craigslist.org/ctd/d/auburn-uni...</td>\n",
       "      <td>auburn</td>\n",
       "      <td>https://auburn.craigslist.org</td>\n",
       "      <td>35990</td>\n",
       "      <td>2010.0</td>\n",
       "      <td>chevrolet</td>\n",
       "      <td>corvette grand sport</td>\n",
       "      <td>good</td>\n",
       "      <td>8 cylinders</td>\n",
       "      <td>...</td>\n",
       "      <td>rwd</td>\n",
       "      <td>NaN</td>\n",
       "      <td>other</td>\n",
       "      <td>NaN</td>\n",
       "      <td>https://images.craigslist.org/00N0N_ipkbHVZYf4...</td>\n",
       "      <td>Carvana is the safer way to buy a car During t...</td>\n",
       "      <td>al</td>\n",
       "      <td>32.590000</td>\n",
       "      <td>-85.480000</td>\n",
       "      <td>2020-12-02T08:11:30-0600</td>\n",
       "    </tr>\n",
       "    <tr>\n",
       "      <th>1</th>\n",
       "      <td>7240309422</td>\n",
       "      <td>https://auburn.craigslist.org/cto/d/auburn-201...</td>\n",
       "      <td>auburn</td>\n",
       "      <td>https://auburn.craigslist.org</td>\n",
       "      <td>7500</td>\n",
       "      <td>2014.0</td>\n",
       "      <td>hyundai</td>\n",
       "      <td>sonata</td>\n",
       "      <td>excellent</td>\n",
       "      <td>4 cylinders</td>\n",
       "      <td>...</td>\n",
       "      <td>fwd</td>\n",
       "      <td>NaN</td>\n",
       "      <td>sedan</td>\n",
       "      <td>NaN</td>\n",
       "      <td>https://images.craigslist.org/00s0s_gBHYmJ5o7y...</td>\n",
       "      <td>I'll move to another city and try to sell my c...</td>\n",
       "      <td>al</td>\n",
       "      <td>32.547500</td>\n",
       "      <td>-85.468200</td>\n",
       "      <td>2020-12-02T02:11:50-0600</td>\n",
       "    </tr>\n",
       "    <tr>\n",
       "      <th>2</th>\n",
       "      <td>7240224296</td>\n",
       "      <td>https://auburn.craigslist.org/cto/d/auburn-200...</td>\n",
       "      <td>auburn</td>\n",
       "      <td>https://auburn.craigslist.org</td>\n",
       "      <td>4900</td>\n",
       "      <td>2006.0</td>\n",
       "      <td>bmw</td>\n",
       "      <td>x3 3.0i</td>\n",
       "      <td>good</td>\n",
       "      <td>6 cylinders</td>\n",
       "      <td>...</td>\n",
       "      <td>NaN</td>\n",
       "      <td>NaN</td>\n",
       "      <td>SUV</td>\n",
       "      <td>blue</td>\n",
       "      <td>https://images.craigslist.org/00B0B_5zgEGWPOrt...</td>\n",
       "      <td>Clean 2006 BMW X3 3.0I.  Beautiful and rare Bl...</td>\n",
       "      <td>al</td>\n",
       "      <td>32.616807</td>\n",
       "      <td>-85.464149</td>\n",
       "      <td>2020-12-01T19:50:41-0600</td>\n",
       "    </tr>\n",
       "    <tr>\n",
       "      <th>3</th>\n",
       "      <td>7240103965</td>\n",
       "      <td>https://auburn.craigslist.org/cto/d/lanett-tru...</td>\n",
       "      <td>auburn</td>\n",
       "      <td>https://auburn.craigslist.org</td>\n",
       "      <td>2000</td>\n",
       "      <td>1974.0</td>\n",
       "      <td>chevrolet</td>\n",
       "      <td>c-10</td>\n",
       "      <td>good</td>\n",
       "      <td>4 cylinders</td>\n",
       "      <td>...</td>\n",
       "      <td>rwd</td>\n",
       "      <td>full-size</td>\n",
       "      <td>pickup</td>\n",
       "      <td>blue</td>\n",
       "      <td>https://images.craigslist.org/00M0M_6o7KcDpArw...</td>\n",
       "      <td>1974 chev. truck (LONG BED) NEW starter front ...</td>\n",
       "      <td>al</td>\n",
       "      <td>32.861600</td>\n",
       "      <td>-85.216100</td>\n",
       "      <td>2020-12-01T15:54:45-0600</td>\n",
       "    </tr>\n",
       "    <tr>\n",
       "      <th>4</th>\n",
       "      <td>7239983776</td>\n",
       "      <td>https://auburn.craigslist.org/cto/d/auburn-200...</td>\n",
       "      <td>auburn</td>\n",
       "      <td>https://auburn.craigslist.org</td>\n",
       "      <td>19500</td>\n",
       "      <td>2005.0</td>\n",
       "      <td>ford</td>\n",
       "      <td>f350 lariat</td>\n",
       "      <td>excellent</td>\n",
       "      <td>8 cylinders</td>\n",
       "      <td>...</td>\n",
       "      <td>4wd</td>\n",
       "      <td>full-size</td>\n",
       "      <td>pickup</td>\n",
       "      <td>blue</td>\n",
       "      <td>https://images.craigslist.org/00p0p_b95l1EgUfl...</td>\n",
       "      <td>2005 Ford F350 Lariat (Bullet Proofed). This t...</td>\n",
       "      <td>al</td>\n",
       "      <td>32.547500</td>\n",
       "      <td>-85.468200</td>\n",
       "      <td>2020-12-01T12:53:56-0600</td>\n",
       "    </tr>\n",
       "  </tbody>\n",
       "</table>\n",
       "<p>5 rows × 25 columns</p>\n",
       "</div>"
      ],
      "text/plain": [
       "           id                                                url  region  \\\n",
       "0  7240372487  https://auburn.craigslist.org/ctd/d/auburn-uni...  auburn   \n",
       "1  7240309422  https://auburn.craigslist.org/cto/d/auburn-201...  auburn   \n",
       "2  7240224296  https://auburn.craigslist.org/cto/d/auburn-200...  auburn   \n",
       "3  7240103965  https://auburn.craigslist.org/cto/d/lanett-tru...  auburn   \n",
       "4  7239983776  https://auburn.craigslist.org/cto/d/auburn-200...  auburn   \n",
       "\n",
       "                      region_url  price    year manufacturer  \\\n",
       "0  https://auburn.craigslist.org  35990  2010.0    chevrolet   \n",
       "1  https://auburn.craigslist.org   7500  2014.0      hyundai   \n",
       "2  https://auburn.craigslist.org   4900  2006.0          bmw   \n",
       "3  https://auburn.craigslist.org   2000  1974.0    chevrolet   \n",
       "4  https://auburn.craigslist.org  19500  2005.0         ford   \n",
       "\n",
       "                  model  condition    cylinders  ... drive       size    type  \\\n",
       "0  corvette grand sport       good  8 cylinders  ...   rwd        NaN   other   \n",
       "1                sonata  excellent  4 cylinders  ...   fwd        NaN   sedan   \n",
       "2               x3 3.0i       good  6 cylinders  ...   NaN        NaN     SUV   \n",
       "3                  c-10       good  4 cylinders  ...   rwd  full-size  pickup   \n",
       "4           f350 lariat  excellent  8 cylinders  ...   4wd  full-size  pickup   \n",
       "\n",
       "  paint_color                                          image_url  \\\n",
       "0         NaN  https://images.craigslist.org/00N0N_ipkbHVZYf4...   \n",
       "1         NaN  https://images.craigslist.org/00s0s_gBHYmJ5o7y...   \n",
       "2        blue  https://images.craigslist.org/00B0B_5zgEGWPOrt...   \n",
       "3        blue  https://images.craigslist.org/00M0M_6o7KcDpArw...   \n",
       "4        blue  https://images.craigslist.org/00p0p_b95l1EgUfl...   \n",
       "\n",
       "                                         description state        lat  \\\n",
       "0  Carvana is the safer way to buy a car During t...    al  32.590000   \n",
       "1  I'll move to another city and try to sell my c...    al  32.547500   \n",
       "2  Clean 2006 BMW X3 3.0I.  Beautiful and rare Bl...    al  32.616807   \n",
       "3  1974 chev. truck (LONG BED) NEW starter front ...    al  32.861600   \n",
       "4  2005 Ford F350 Lariat (Bullet Proofed). This t...    al  32.547500   \n",
       "\n",
       "        long              posting_date  \n",
       "0 -85.480000  2020-12-02T08:11:30-0600  \n",
       "1 -85.468200  2020-12-02T02:11:50-0600  \n",
       "2 -85.464149  2020-12-01T19:50:41-0600  \n",
       "3 -85.216100  2020-12-01T15:54:45-0600  \n",
       "4 -85.468200  2020-12-01T12:53:56-0600  \n",
       "\n",
       "[5 rows x 25 columns]"
      ]
     },
     "execution_count": 3,
     "metadata": {},
     "output_type": "execute_result"
    }
   ],
   "source": [
    "# A continuación se puede ver como luce la tabla original\n",
    "ventas.head()"
   ]
  },
  {
   "cell_type": "code",
   "execution_count": 4,
   "id": "protective-document",
   "metadata": {
    "slideshow": {
     "slide_type": "slide"
    }
   },
   "outputs": [
    {
     "name": "stdout",
     "output_type": "stream",
     "text": [
      "<class 'pandas.core.frame.DataFrame'>\n",
      "Int64Index: 458213 entries, 0 to 458212\n",
      "Data columns (total 25 columns):\n",
      " #   Column        Non-Null Count   Dtype  \n",
      "---  ------        --------------   -----  \n",
      " 0   id            458213 non-null  int64  \n",
      " 1   url           458213 non-null  object \n",
      " 2   region        458213 non-null  object \n",
      " 3   region_url    458213 non-null  object \n",
      " 4   price         458213 non-null  int64  \n",
      " 5   year          457163 non-null  float64\n",
      " 6   manufacturer  439993 non-null  object \n",
      " 7   model         453367 non-null  object \n",
      " 8   condition     265273 non-null  object \n",
      " 9   cylinders     287073 non-null  object \n",
      " 10  fuel          454976 non-null  object \n",
      " 11  odometer      402910 non-null  float64\n",
      " 12  title_status  455636 non-null  object \n",
      " 13  transmission  455771 non-null  object \n",
      " 14  VIN           270664 non-null  object \n",
      " 15  drive         324025 non-null  object \n",
      " 16  size          136865 non-null  object \n",
      " 17  type          345475 non-null  object \n",
      " 18  paint_color   317370 non-null  object \n",
      " 19  image_url     458185 non-null  object \n",
      " 20  description   458143 non-null  object \n",
      " 21  state         458213 non-null  object \n",
      " 22  lat           450765 non-null  float64\n",
      " 23  long          450765 non-null  float64\n",
      " 24  posting_date  458185 non-null  object \n",
      "dtypes: float64(4), int64(2), object(19)\n",
      "memory usage: 90.9+ MB\n"
     ]
    }
   ],
   "source": [
    "# Para más detalles podemos obtener la información de cada columna cono el número de registros no nulos\n",
    "# y el tipo de dato \n",
    "ventas.info()"
   ]
  },
  {
   "cell_type": "code",
   "execution_count": 5,
   "id": "reserved-given",
   "metadata": {
    "slideshow": {
     "slide_type": "subslide"
    }
   },
   "outputs": [
    {
     "data": {
      "text/plain": [
       "object     19\n",
       "float64     4\n",
       "int64       2\n",
       "dtype: int64"
      ]
     },
     "execution_count": 5,
     "metadata": {},
     "output_type": "execute_result"
    }
   ],
   "source": [
    "# Cuantas columnas hay para cada tipo de dato\n",
    "ventas.dtypes.value_counts()"
   ]
  },
  {
   "cell_type": "code",
   "execution_count": 6,
   "id": "central-moscow",
   "metadata": {
    "slideshow": {
     "slide_type": "subslide"
    }
   },
   "outputs": [
    {
     "data": {
      "text/html": [
       "<div>\n",
       "<style scoped>\n",
       "    .dataframe tbody tr th:only-of-type {\n",
       "        vertical-align: middle;\n",
       "    }\n",
       "\n",
       "    .dataframe tbody tr th {\n",
       "        vertical-align: top;\n",
       "    }\n",
       "\n",
       "    .dataframe thead th {\n",
       "        text-align: right;\n",
       "    }\n",
       "</style>\n",
       "<table border=\"1\" class=\"dataframe\">\n",
       "  <thead>\n",
       "    <tr style=\"text-align: right;\">\n",
       "      <th></th>\n",
       "      <th># nulos</th>\n",
       "    </tr>\n",
       "  </thead>\n",
       "  <tbody>\n",
       "    <tr>\n",
       "      <th>id</th>\n",
       "      <td>0</td>\n",
       "    </tr>\n",
       "    <tr>\n",
       "      <th>url</th>\n",
       "      <td>0</td>\n",
       "    </tr>\n",
       "    <tr>\n",
       "      <th>region</th>\n",
       "      <td>0</td>\n",
       "    </tr>\n",
       "    <tr>\n",
       "      <th>region_url</th>\n",
       "      <td>0</td>\n",
       "    </tr>\n",
       "    <tr>\n",
       "      <th>price</th>\n",
       "      <td>0</td>\n",
       "    </tr>\n",
       "    <tr>\n",
       "      <th>state</th>\n",
       "      <td>0</td>\n",
       "    </tr>\n",
       "    <tr>\n",
       "      <th>image_url</th>\n",
       "      <td>28</td>\n",
       "    </tr>\n",
       "    <tr>\n",
       "      <th>posting_date</th>\n",
       "      <td>28</td>\n",
       "    </tr>\n",
       "    <tr>\n",
       "      <th>description</th>\n",
       "      <td>70</td>\n",
       "    </tr>\n",
       "    <tr>\n",
       "      <th>year</th>\n",
       "      <td>1050</td>\n",
       "    </tr>\n",
       "    <tr>\n",
       "      <th>transmission</th>\n",
       "      <td>2442</td>\n",
       "    </tr>\n",
       "    <tr>\n",
       "      <th>title_status</th>\n",
       "      <td>2577</td>\n",
       "    </tr>\n",
       "    <tr>\n",
       "      <th>fuel</th>\n",
       "      <td>3237</td>\n",
       "    </tr>\n",
       "    <tr>\n",
       "      <th>model</th>\n",
       "      <td>4846</td>\n",
       "    </tr>\n",
       "    <tr>\n",
       "      <th>long</th>\n",
       "      <td>7448</td>\n",
       "    </tr>\n",
       "    <tr>\n",
       "      <th>lat</th>\n",
       "      <td>7448</td>\n",
       "    </tr>\n",
       "    <tr>\n",
       "      <th>manufacturer</th>\n",
       "      <td>18220</td>\n",
       "    </tr>\n",
       "    <tr>\n",
       "      <th>odometer</th>\n",
       "      <td>55303</td>\n",
       "    </tr>\n",
       "    <tr>\n",
       "      <th>type</th>\n",
       "      <td>112738</td>\n",
       "    </tr>\n",
       "    <tr>\n",
       "      <th>drive</th>\n",
       "      <td>134188</td>\n",
       "    </tr>\n",
       "    <tr>\n",
       "      <th>paint_color</th>\n",
       "      <td>140843</td>\n",
       "    </tr>\n",
       "    <tr>\n",
       "      <th>cylinders</th>\n",
       "      <td>171140</td>\n",
       "    </tr>\n",
       "    <tr>\n",
       "      <th>VIN</th>\n",
       "      <td>187549</td>\n",
       "    </tr>\n",
       "    <tr>\n",
       "      <th>condition</th>\n",
       "      <td>192940</td>\n",
       "    </tr>\n",
       "    <tr>\n",
       "      <th>size</th>\n",
       "      <td>321348</td>\n",
       "    </tr>\n",
       "  </tbody>\n",
       "</table>\n",
       "</div>"
      ],
      "text/plain": [
       "              # nulos\n",
       "id                  0\n",
       "url                 0\n",
       "region              0\n",
       "region_url          0\n",
       "price               0\n",
       "state               0\n",
       "image_url          28\n",
       "posting_date       28\n",
       "description        70\n",
       "year             1050\n",
       "transmission     2442\n",
       "title_status     2577\n",
       "fuel             3237\n",
       "model            4846\n",
       "long             7448\n",
       "lat              7448\n",
       "manufacturer    18220\n",
       "odometer        55303\n",
       "type           112738\n",
       "drive          134188\n",
       "paint_color    140843\n",
       "cylinders      171140\n",
       "VIN            187549\n",
       "condition      192940\n",
       "size           321348"
      ]
     },
     "execution_count": 6,
     "metadata": {},
     "output_type": "execute_result"
    }
   ],
   "source": [
    "# cuantos datos nulos hay por cada columna\n",
    "pd.DataFrame(ventas.isna().sum().sort_values(),columns = ['# nulos'])\n"
   ]
  },
  {
   "cell_type": "markdown",
   "id": "complex-turkey",
   "metadata": {
    "slideshow": {
     "slide_type": "slide"
    }
   },
   "source": [
    "**Primeras impresiones**\n",
    "1. La mayoría de categorías son del tipo **object (descriptivas)** \n",
    "2. Solo hay **6** columnas **sin datos nulos**\n",
    "3. La gran mayoría tiene más de **2000 datos nulos**"
   ]
  },
  {
   "cell_type": "markdown",
   "id": "palestinian-shield",
   "metadata": {
    "slideshow": {
     "slide_type": "slide"
    }
   },
   "source": [
    "## 1. Data Cleaning\n",
    "Antes de empezar los respectivos análisis y responder a las preguntas, es necesario hacer un data cleaning o **limpieza de datos** que permita trabajar con ellos de mejor manera. \n",
    "\n",
    "En este caso vamos a 'limpiar' los registros de la columna **year** "
   ]
  },
  {
   "cell_type": "code",
   "execution_count": 7,
   "id": "neutral-puppy",
   "metadata": {
    "slideshow": {
     "slide_type": "slide"
    }
   },
   "outputs": [
    {
     "data": {
      "text/plain": [
       "0         2010.0\n",
       "1         2014.0\n",
       "2         2006.0\n",
       "3         1974.0\n",
       "4         2005.0\n",
       "           ...  \n",
       "458208    2014.0\n",
       "458209    2018.0\n",
       "458210    2014.0\n",
       "458211    2008.0\n",
       "458212    2008.0\n",
       "Name: year, Length: 458213, dtype: float64"
      ]
     },
     "execution_count": 7,
     "metadata": {},
     "output_type": "execute_result"
    }
   ],
   "source": [
    "#Así lucen los registros de la columna 'year'\n",
    "ventas['year']"
   ]
  },
  {
   "cell_type": "markdown",
   "id": "detailed-firewall",
   "metadata": {
    "slideshow": {
     "slide_type": "subslide"
    }
   },
   "source": [
    "Como nos damos cuenta, los registros de la columna **year** son de tiplo float y contienen decimales. Dado que los registros de esta columna son números que representan años, **no tiene sentido que contengan decimales**. \n",
    "\n",
    "Para esto vamos a removerle el **'.' y el '0'** "
   ]
  },
  {
   "cell_type": "code",
   "execution_count": 8,
   "id": "modified-subscriber",
   "metadata": {
    "slideshow": {
     "slide_type": "slide"
    }
   },
   "outputs": [],
   "source": [
    "# Sencillamente convertimos los datos en Int, los cuales no se representan con decimales\n",
    "ventas['year']=ventas['year'].astype('Int64')"
   ]
  },
  {
   "cell_type": "code",
   "execution_count": 9,
   "id": "hired-novelty",
   "metadata": {
    "slideshow": {
     "slide_type": "subslide"
    }
   },
   "outputs": [
    {
     "data": {
      "text/plain": [
       "0         2010\n",
       "1         2014\n",
       "2         2006\n",
       "3         1974\n",
       "4         2005\n",
       "          ... \n",
       "458208    2014\n",
       "458209    2018\n",
       "458210    2014\n",
       "458211    2008\n",
       "458212    2008\n",
       "Name: year, Length: 458213, dtype: Int64"
      ]
     },
     "execution_count": 9,
     "metadata": {},
     "output_type": "execute_result"
    }
   ],
   "source": [
    "#Así lucen los nuevos registros de la columna year\n",
    "ventas['year']"
   ]
  },
  {
   "cell_type": "markdown",
   "id": "freelance-monitoring",
   "metadata": {
    "slideshow": {
     "slide_type": "slide"
    }
   },
   "source": [
    "## 2. Análisis"
   ]
  },
  {
   "cell_type": "markdown",
   "id": "divine-partner",
   "metadata": {
    "slideshow": {
     "slide_type": "slide"
    }
   },
   "source": [
    "1. ¿Cuántas **regiones** diferentes hay y cuántos registros hay por cada **región**?\n"
   ]
  },
  {
   "cell_type": "code",
   "execution_count": 10,
   "id": "elegant-mobile",
   "metadata": {
    "slideshow": {
     "slide_type": "slide"
    }
   },
   "outputs": [
    {
     "name": "stdout",
     "output_type": "stream",
     "text": [
      "Regiones diferentes: \u001b[1m405\n"
     ]
    }
   ],
   "source": [
    "# Contamos los registros únicos de la columna 'region', es decir, cuantas regiones distinas hay\n",
    "print('Regiones diferentes:',\"\\033[1m\" + str(ventas['region'].nunique()))\n"
   ]
  },
  {
   "cell_type": "code",
   "execution_count": 11,
   "id": "written-filter",
   "metadata": {
    "slideshow": {
     "slide_type": "slide"
    }
   },
   "outputs": [
    {
     "data": {
      "text/html": [
       "<div>\n",
       "<style scoped>\n",
       "    .dataframe tbody tr th:only-of-type {\n",
       "        vertical-align: middle;\n",
       "    }\n",
       "\n",
       "    .dataframe tbody tr th {\n",
       "        vertical-align: top;\n",
       "    }\n",
       "\n",
       "    .dataframe thead th {\n",
       "        text-align: right;\n",
       "    }\n",
       "</style>\n",
       "<table border=\"1\" class=\"dataframe\">\n",
       "  <thead>\n",
       "    <tr style=\"text-align: right;\">\n",
       "      <th></th>\n",
       "      <th># registros</th>\n",
       "    </tr>\n",
       "  </thead>\n",
       "  <tbody>\n",
       "    <tr>\n",
       "      <th>columbus</th>\n",
       "      <td>3818</td>\n",
       "    </tr>\n",
       "    <tr>\n",
       "      <th>rochester</th>\n",
       "      <td>3592</td>\n",
       "    </tr>\n",
       "    <tr>\n",
       "      <th>jacksonville</th>\n",
       "      <td>3504</td>\n",
       "    </tr>\n",
       "    <tr>\n",
       "      <th>springfield</th>\n",
       "      <td>3293</td>\n",
       "    </tr>\n",
       "    <tr>\n",
       "      <th>fayetteville</th>\n",
       "      <td>2990</td>\n",
       "    </tr>\n",
       "    <tr>\n",
       "      <th>...</th>\n",
       "      <td>...</td>\n",
       "    </tr>\n",
       "    <tr>\n",
       "      <th>siskiyou county</th>\n",
       "      <td>28</td>\n",
       "    </tr>\n",
       "    <tr>\n",
       "      <th>susanville</th>\n",
       "      <td>17</td>\n",
       "    </tr>\n",
       "    <tr>\n",
       "      <th>fort smith, AR</th>\n",
       "      <td>11</td>\n",
       "    </tr>\n",
       "    <tr>\n",
       "      <th>west virginia (old)</th>\n",
       "      <td>11</td>\n",
       "    </tr>\n",
       "    <tr>\n",
       "      <th>sioux city, IA</th>\n",
       "      <td>1</td>\n",
       "    </tr>\n",
       "  </tbody>\n",
       "</table>\n",
       "<p>405 rows × 1 columns</p>\n",
       "</div>"
      ],
      "text/plain": [
       "                     # registros\n",
       "columbus                    3818\n",
       "rochester                   3592\n",
       "jacksonville                3504\n",
       "springfield                 3293\n",
       "fayetteville                2990\n",
       "...                          ...\n",
       "siskiyou county               28\n",
       "susanville                    17\n",
       "fort smith, AR                11\n",
       "west virginia (old)           11\n",
       "sioux city, IA                 1\n",
       "\n",
       "[405 rows x 1 columns]"
      ]
     },
     "execution_count": 11,
     "metadata": {},
     "output_type": "execute_result"
    }
   ],
   "source": [
    "#Mostrar el número de registros por región\n",
    "region=ventas['region'].value_counts().to_frame()\n",
    "region.columns=['# registros']\n",
    "region"
   ]
  },
  {
   "cell_type": "markdown",
   "id": "allied-regulation",
   "metadata": {
    "slideshow": {
     "slide_type": "subslide"
    }
   },
   "source": [
    "\n",
    "En la anterior tabla se puede evidenciar el **# de registros por región**. Sin embargo, para tener una mejor perspectiva de esta información vamos a ver un par de **gráficas**."
   ]
  },
  {
   "cell_type": "code",
   "execution_count": 12,
   "id": "internal-despite",
   "metadata": {
    "slideshow": {
     "slide_type": "skip"
    }
   },
   "outputs": [],
   "source": [
    "# Gridline atrás de cualquier otro objeto\n",
    "plt.rc('axes', axisbelow=True)"
   ]
  },
  {
   "cell_type": "code",
   "execution_count": 13,
   "id": "static-spirituality",
   "metadata": {
    "slideshow": {
     "slide_type": "slide"
    }
   },
   "outputs": [
    {
     "data": {
      "image/png": "[encoded data removed]",
      "text/plain": [
       "<Figure size 576x288 with 1 Axes>"
      ]
     },
     "metadata": {
      "needs_background": "light"
     },
     "output_type": "display_data"
    }
   ],
   "source": [
    "#Histograma \n",
    "region_hist=region.plot.hist(figsize=(8,4),bins=50,ec='w')\n",
    "region_hist.grid(which='major')\n",
    "region_hist.set_xlabel('Registros',fontdict=dict(weight='bold'),fontsize=14)\n",
    "region_hist.set_ylabel('Frecuencia',fontdict=dict(weight='bold'),fontsize=14)\n",
    "region_hist.set_title('Histograma',fontdict=dict(weight='bold'),fontsize=14)\n",
    "\n",
    "plt.show()"
   ]
  },
  {
   "cell_type": "markdown",
   "id": "consolidated-sunrise",
   "metadata": {
    "slideshow": {
     "slide_type": "subslide"
    }
   },
   "source": [
    "El histograma muestra datos sesgados hacia la derecha, es decir, muchos de las regiones **tienen menos de 1000 registros**. Sin embargo,se evidencia un pico de más de **50 regiones con cerca de 3000 registros**. "
   ]
  },
  {
   "cell_type": "code",
   "execution_count": 14,
   "id": "minute-technology",
   "metadata": {
    "slideshow": {
     "slide_type": "slide"
    }
   },
   "outputs": [
    {
     "data": {
      "image/png": "[encoded data removed]",
      "text/plain": [
       "<Figure size 1152x432 with 1 Axes>"
      ]
     },
     "metadata": {
      "needs_background": "light"
     },
     "output_type": "display_data"
    }
   ],
   "source": [
    "#Mostrar el # de registros de las 10 regiones con más registros\n",
    "region_plt=region[:30].plot.bar(figsize=(16,6))\n",
    "region_plt.grid(which='major')\n",
    "region_plt.set_xlabel('Regiones',fontdict=dict(weight='bold'),fontsize=14)\n",
    "region_plt.set_ylabel('# Registros',fontdict=dict(weight='bold'),fontsize=14)\n",
    "region_plt.set_title('30 Regiones con más Registros',fontdict=dict(weight='bold'),fontsize=16)\n",
    "\n",
    "plt.show()"
   ]
  },
  {
   "cell_type": "markdown",
   "id": "ahead-header",
   "metadata": {
    "slideshow": {
     "slide_type": "subslide"
    }
   },
   "source": [
    "Las **30 regiones** con más registros de ventas de vehículos en Craiglist tienen aproximadamente entre **2900 y 3900 registros**. Donde la mayoría cuentan con alrededor de **3000 registros**"
   ]
  },
  {
   "cell_type": "code",
   "execution_count": 16,
   "id": "interpreted-liberal",
   "metadata": {
    "slideshow": {
     "slide_type": "slide"
    }
   },
   "outputs": [
    {
     "name": "stdout",
     "output_type": "stream",
     "text": [
      "Las \u001b[1m30 regiones con más registros tienen 91742\u001b[0m registros y representan el \u001b[1m20.02% del total registros\n"
     ]
    }
   ],
   "source": [
    "# Calcular cuantas registros tienen las 30 regiones con respecto al total\n",
    "regiones_30=region[:30].sum()\n",
    "total=ventas['id'].count()\n",
    "\n",
    "print('Las',\"\\033[1m\"+'30 regiones con más registros tienen '+str(int(region[:30].sum().values))+\"\\033[0m\",\n",
    "     'registros y representan el '\"\\033[1m\" +str(round(float(regiones_30/total*100),2))+'% del total registros')"
   ]
  },
  {
   "cell_type": "markdown",
   "id": "criminal-grenada",
   "metadata": {
    "slideshow": {
     "slide_type": "skip"
    }
   },
   "source": [
    "   "
   ]
  },
  {
   "cell_type": "markdown",
   "id": "sized-flush",
   "metadata": {
    "slideshow": {
     "slide_type": "slide"
    }
   },
   "source": [
    "2. Generar un archivo con los registros que están **completos**, descartando aquellos que tienen alguno de sus campos **nulos**."
   ]
  },
  {
   "cell_type": "code",
   "execution_count": 17,
   "id": "advised-aaron",
   "metadata": {
    "slideshow": {
     "slide_type": "slide"
    }
   },
   "outputs": [],
   "source": [
    "# Remover los registros o filas si en alguna columna existe un dato nulo\n",
    "ventas_completas=ventas.dropna()"
   ]
  },
  {
   "cell_type": "code",
   "execution_count": 18,
   "id": "after-imperial",
   "metadata": {
    "slideshow": {
     "slide_type": "subslide"
    }
   },
   "outputs": [
    {
     "data": {
      "text/plain": [
       "id              0\n",
       "url             0\n",
       "region          0\n",
       "region_url      0\n",
       "price           0\n",
       "year            0\n",
       "manufacturer    0\n",
       "model           0\n",
       "condition       0\n",
       "cylinders       0\n",
       "fuel            0\n",
       "odometer        0\n",
       "title_status    0\n",
       "transmission    0\n",
       "VIN             0\n",
       "drive           0\n",
       "size            0\n",
       "type            0\n",
       "paint_color     0\n",
       "image_url       0\n",
       "description     0\n",
       "state           0\n",
       "lat             0\n",
       "long            0\n",
       "posting_date    0\n",
       "dtype: int64"
      ]
     },
     "execution_count": 18,
     "metadata": {},
     "output_type": "execute_result"
    }
   ],
   "source": [
    "# Comprobar que en ninguna columna haya un dato nulo\n",
    "ventas_completas.isna().sum()"
   ]
  },
  {
   "cell_type": "code",
   "execution_count": 19,
   "id": "stuffed-alfred",
   "metadata": {
    "slideshow": {
     "slide_type": "slide"
    }
   },
   "outputs": [
    {
     "name": "stdout",
     "output_type": "stream",
     "text": [
      "Existen \u001b[1m42384 registros completos\u001b[0m y representan el \u001b[1m9.25% del total de registros\n"
     ]
    }
   ],
   "source": [
    "#porcentaje de registros completos con respecto al total\n",
    "completos= ventas_completas['id'].count()\n",
    "porcentaje_completos= str(round(float(completos/total*100),2))\n",
    "print('Existen',\"\\033[1m\"+str(completos),'registros completos'+\"\\033[0m\",\n",
    "     'y representan el '\"\\033[1m\" +str(round(float(completos/total*100),2))+'% del total de registros')\n"
   ]
  },
  {
   "cell_type": "code",
   "execution_count": 20,
   "id": "portable-bermuda",
   "metadata": {
    "slideshow": {
     "slide_type": "subslide"
    }
   },
   "outputs": [
    {
     "data": {
      "image/png": "[encoded data removed]",
      "text/plain": [
       "<Figure size 432x288 with 1 Axes>"
      ]
     },
     "metadata": {
      "needs_background": "light"
     },
     "output_type": "display_data"
    }
   ],
   "source": [
    "#Mostrar gráficamente diferencia entre registros completos vs totales\n",
    "completos_data={'completos':[completos],'total':[total]}\n",
    "completos_plt=pd.DataFrame(completos_data, index=['# registros']).transpose().plot.bar()\n",
    "completos_plt.grid(which='major')\n",
    "completos_plt.set_xlabel('Tipo',fontdict=dict(weight='bold'),fontsize=14)\n",
    "completos_plt.set_ylabel('# Registros',fontdict=dict(weight='bold'),fontsize=14)\n",
    "completos_plt.set_title('Registros completos vs Registros totales',fontdict=dict(weight='bold'),fontsize=16)\n",
    "plt.show() "
   ]
  },
  {
   "cell_type": "code",
   "execution_count": null,
   "id": "prerequisite-category",
   "metadata": {
    "slideshow": {
     "slide_type": "slide"
    }
   },
   "outputs": [],
   "source": [
    "# Se genera un archivo con los registros completos\n",
    "#ventas_completas.to_excel('ventas_completas.xlsx', index=False)"
   ]
  },
  {
   "cell_type": "markdown",
   "id": "charming-boulder",
   "metadata": {
    "slideshow": {
     "slide_type": "skip"
    }
   },
   "source": [
    "   "
   ]
  },
  {
   "cell_type": "markdown",
   "id": "residential-american",
   "metadata": {
    "slideshow": {
     "slide_type": "slide"
    }
   },
   "source": [
    "\n",
    "\n",
    "\n",
    "3. ¿Cuáles registros cuentan con el **price >= 15000** y la condición del vehículo sea **good** o **excellent**.\n"
   ]
  },
  {
   "cell_type": "code",
   "execution_count": 24,
   "id": "elect-index",
   "metadata": {
    "slideshow": {
     "slide_type": "slide"
    }
   },
   "outputs": [
    {
     "name": "stdout",
     "output_type": "stream",
     "text": [
      "Existen \u001b[1m174248 registros con precio >=15000\u001b[0m y representan el \u001b[1m38.03% del total de datos válidos\n"
     ]
    }
   ],
   "source": [
    "#porcentaje de registros con price >= 15000 con respecto al total\n",
    "precio_15000=ventas[ventas['price']>=15000]['id'].count()\n",
    "print('Existen',\"\\033[1m\"+str(precio_15000),'registros con precio >=15000'+\"\\033[0m\",\n",
    "     'y representan el '\"\\033[1m\" + str(round(precio_15000/total*100,2))+'% del total de datos válidos')\n"
   ]
  },
  {
   "cell_type": "code",
   "execution_count": 25,
   "id": "collectible-contemporary",
   "metadata": {
    "slideshow": {
     "slide_type": "slide"
    }
   },
   "outputs": [
    {
     "data": {
      "text/plain": [
       "good         115685\n",
       "excellent    115206\n",
       "like new      24553\n",
       "fair           7740\n",
       "new            1428\n",
       "salvage         661\n",
       "Name: condition, dtype: int64"
      ]
     },
     "execution_count": 25,
     "metadata": {},
     "output_type": "execute_result"
    }
   ],
   "source": [
    "#Número de registros con condición good o excellent\n",
    "condicion=ventas['condition']\n",
    "condicion.value_counts()"
   ]
  },
  {
   "cell_type": "code",
   "execution_count": 26,
   "id": "dense-extra",
   "metadata": {
    "slideshow": {
     "slide_type": "subslide"
    }
   },
   "outputs": [
    {
     "name": "stdout",
     "output_type": "stream",
     "text": [
      "Existen \u001b[1m115685 registros con condición good\u001b[0m y representan el \u001b[1m25.25% del total de registros\u001b[0m\n",
      "Existen \u001b[1m115206 registros con condición excellent\u001b[0m y representan el \u001b[1m25.14% del total de registros\n"
     ]
    }
   ],
   "source": [
    "#porcentaje de registros con condición good con respecto al total\n",
    "good=condicion.value_counts().values[0]\n",
    "print('Existen',\"\\033[1m\"+str(good),'registros con condición good'+\"\\033[0m\",\n",
    "     'y representan el '\"\\033[1m\" + str(round(good/total*100,2))+'% del total de registros'+\"\\033[0m\")\n",
    "\n",
    "#porcentaje de registros con condición excellent con respecto al total\n",
    "excellent=condicion.value_counts().values[1]\n",
    "print('Existen',\"\\033[1m\"+str(excellent),'registros con condición excellent'+\"\\033[0m\",\n",
    "     'y representan el '\"\\033[1m\" + str(round(excellent/total*100,2))+'% del total de registros')"
   ]
  },
  {
   "cell_type": "code",
   "execution_count": 27,
   "id": "laden-minister",
   "metadata": {
    "slideshow": {
     "slide_type": "subslide"
    }
   },
   "outputs": [
    {
     "name": "stdout",
     "output_type": "stream",
     "text": [
      "Existen \u001b[1m230891 registros con condición excellent o good\u001b[0m y representan el \u001b[1m50.39% del total de registros\n"
     ]
    }
   ],
   "source": [
    "#porcentaje de registros con condición good o excellent con respecto al total\n",
    "good_excellent=good+excellent\n",
    "print('Existen',\"\\033[1m\"+str(good_excellent),'registros con condición excellent o good'+\"\\033[0m\",\n",
    "     'y representan el '\"\\033[1m\" + str(round(good_excellent/total*100,2))+'% del total de registros')"
   ]
  },
  {
   "cell_type": "code",
   "execution_count": 28,
   "id": "framed-surge",
   "metadata": {
    "slideshow": {
     "slide_type": "slide"
    }
   },
   "outputs": [
    {
     "name": "stdout",
     "output_type": "stream",
     "text": [
      "Existen \u001b[1m86767 registros con precio >=1500 y condición excellent o good\u001b[0m y representan el \u001b[1m18.94% del total de registros\n"
     ]
    }
   ],
   "source": [
    "#porcentaje de registros con precio>=15000 condición good o excellent con respecto al total\n",
    "precio_condicion_filtro=ventas[((ventas['price']>=15000)& ((ventas['condition']=='good') | (ventas['condition']=='excellent')))]\n",
    "precio_condicion=precio_condicion_filtro['id'].count()\n",
    "print('Existen',\"\\033[1m\"+str(precio_condicion),'registros con precio >=1500 y condición excellent o good'+\"\\033[0m\",\n",
    "     'y representan el '\"\\033[1m\" + str(round(precio_condicion/total*100,2))+'% del total de registros')\n"
   ]
  },
  {
   "cell_type": "code",
   "execution_count": 33,
   "id": "arranged-school",
   "metadata": {
    "slideshow": {
     "slide_type": "subslide"
    }
   },
   "outputs": [
    {
     "data": {
      "text/html": [
       "<div>\n",
       "<style scoped>\n",
       "    .dataframe tbody tr th:only-of-type {\n",
       "        vertical-align: middle;\n",
       "    }\n",
       "\n",
       "    .dataframe tbody tr th {\n",
       "        vertical-align: top;\n",
       "    }\n",
       "\n",
       "    .dataframe thead th {\n",
       "        text-align: right;\n",
       "    }\n",
       "</style>\n",
       "<table border=\"1\" class=\"dataframe\">\n",
       "  <thead>\n",
       "    <tr style=\"text-align: right;\">\n",
       "      <th></th>\n",
       "      <th>id</th>\n",
       "    </tr>\n",
       "  </thead>\n",
       "  <tbody>\n",
       "    <tr>\n",
       "      <th>0</th>\n",
       "      <td>7240372487</td>\n",
       "    </tr>\n",
       "    <tr>\n",
       "      <th>4</th>\n",
       "      <td>7239983776</td>\n",
       "    </tr>\n",
       "    <tr>\n",
       "      <th>5</th>\n",
       "      <td>7239776805</td>\n",
       "    </tr>\n",
       "    <tr>\n",
       "      <th>6</th>\n",
       "      <td>7239425036</td>\n",
       "    </tr>\n",
       "    <tr>\n",
       "      <th>7</th>\n",
       "      <td>7238667661</td>\n",
       "    </tr>\n",
       "    <tr>\n",
       "      <th>...</th>\n",
       "      <td>...</td>\n",
       "    </tr>\n",
       "    <tr>\n",
       "      <th>458162</th>\n",
       "      <td>7240952591</td>\n",
       "    </tr>\n",
       "    <tr>\n",
       "      <th>458195</th>\n",
       "      <td>7240981040</td>\n",
       "    </tr>\n",
       "    <tr>\n",
       "      <th>458199</th>\n",
       "      <td>7240924844</td>\n",
       "    </tr>\n",
       "    <tr>\n",
       "      <th>458209</th>\n",
       "      <td>7240954682</td>\n",
       "    </tr>\n",
       "    <tr>\n",
       "      <th>458210</th>\n",
       "      <td>7240645700</td>\n",
       "    </tr>\n",
       "  </tbody>\n",
       "</table>\n",
       "<p>86767 rows × 1 columns</p>\n",
       "</div>"
      ],
      "text/plain": [
       "                id\n",
       "0       7240372487\n",
       "4       7239983776\n",
       "5       7239776805\n",
       "6       7239425036\n",
       "7       7238667661\n",
       "...            ...\n",
       "458162  7240952591\n",
       "458195  7240981040\n",
       "458199  7240924844\n",
       "458209  7240954682\n",
       "458210  7240645700\n",
       "\n",
       "[86767 rows x 1 columns]"
      ]
     },
     "execution_count": 33,
     "metadata": {},
     "output_type": "execute_result"
    }
   ],
   "source": [
    "#id de los registros de ventas de vehículos con precio >=15000 y con condición buena o excelente\n",
    "precio_condicion_filtro['id'].to_frame()"
   ]
  },
  {
   "cell_type": "code",
   "execution_count": 29,
   "id": "distributed-riding",
   "metadata": {
    "slideshow": {
     "slide_type": "slide"
    }
   },
   "outputs": [
    {
     "data": {
      "image/png": "[encoded data removed]",
      "text/plain": [
       "<Figure size 432x288 with 1 Axes>"
      ]
     },
     "metadata": {
      "needs_background": "light"
     },
     "output_type": "display_data"
    }
   ],
   "source": [
    "#Mostrar gráficamente diferencia entre registros con filtro de precio y condición vs totales\n",
    "precio_condición_data={'precio_condición':[precio_condicion],'total':[total]}\n",
    "precio_condición_plt=pd.DataFrame(precio_condición_data, index=['# registros']).transpose().plot.bar()\n",
    "precio_condición_plt.grid(which='major')\n",
    "precio_condición_plt.set_xlabel('Tipo',fontdict=dict(weight='bold'),fontsize=14)\n",
    "precio_condición_plt.set_ylabel('# Registros',fontdict=dict(weight='bold'),fontsize=14)\n",
    "precio_condición_plt.set_title('Registros precio>=15000 y condición good o excellent vs Registros totales',fontdict=dict(weight='bold'),fontsize=16)\n",
    "plt.show() "
   ]
  },
  {
   "cell_type": "code",
   "execution_count": 30,
   "id": "paperback-palestine",
   "metadata": {
    "slideshow": {
     "slide_type": "slide"
    }
   },
   "outputs": [
    {
     "data": {
      "text/html": [
       "<div>\n",
       "<style scoped>\n",
       "    .dataframe tbody tr th:only-of-type {\n",
       "        vertical-align: middle;\n",
       "    }\n",
       "\n",
       "    .dataframe tbody tr th {\n",
       "        vertical-align: top;\n",
       "    }\n",
       "\n",
       "    .dataframe thead th {\n",
       "        text-align: right;\n",
       "    }\n",
       "</style>\n",
       "<table border=\"1\" class=\"dataframe\">\n",
       "  <thead>\n",
       "    <tr style=\"text-align: right;\">\n",
       "      <th></th>\n",
       "      <th>id</th>\n",
       "      <th>url</th>\n",
       "      <th>region</th>\n",
       "      <th>region_url</th>\n",
       "      <th>price</th>\n",
       "      <th>year</th>\n",
       "      <th>manufacturer</th>\n",
       "      <th>model</th>\n",
       "      <th>condition</th>\n",
       "      <th>cylinders</th>\n",
       "      <th>...</th>\n",
       "      <th>drive</th>\n",
       "      <th>size</th>\n",
       "      <th>type</th>\n",
       "      <th>paint_color</th>\n",
       "      <th>image_url</th>\n",
       "      <th>description</th>\n",
       "      <th>state</th>\n",
       "      <th>lat</th>\n",
       "      <th>long</th>\n",
       "      <th>posting_date</th>\n",
       "    </tr>\n",
       "  </thead>\n",
       "  <tbody>\n",
       "  </tbody>\n",
       "</table>\n",
       "<p>0 rows × 25 columns</p>\n",
       "</div>"
      ],
      "text/plain": [
       "Empty DataFrame\n",
       "Columns: [id, url, region, region_url, price, year, manufacturer, model, condition, cylinders, fuel, odometer, title_status, transmission, VIN, drive, size, type, paint_color, image_url, description, state, lat, long, posting_date]\n",
       "Index: []\n",
       "\n",
       "[0 rows x 25 columns]"
      ]
     },
     "execution_count": 30,
     "metadata": {},
     "output_type": "execute_result"
    }
   ],
   "source": [
    "#Verificar que el precio sea >= 15000\n",
    "precio_condicion_filtro[precio_condicion_filtro['price']<15000]"
   ]
  },
  {
   "cell_type": "code",
   "execution_count": 31,
   "id": "adjacent-leeds",
   "metadata": {
    "slideshow": {
     "slide_type": "subslide"
    }
   },
   "outputs": [
    {
     "data": {
      "text/plain": [
       "good         52023\n",
       "excellent    34744\n",
       "Name: condition, dtype: int64"
      ]
     },
     "execution_count": 31,
     "metadata": {},
     "output_type": "execute_result"
    }
   ],
   "source": [
    "#Verificar que la condición sea good o excellent\n",
    "precio_condicion_filtro['condition'].value_counts()"
   ]
  },
  {
   "cell_type": "markdown",
   "id": "cutting-image",
   "metadata": {
    "slideshow": {
     "slide_type": "skip"
    }
   },
   "source": [
    "   "
   ]
  },
  {
   "cell_type": "markdown",
   "id": "detected-roulette",
   "metadata": {
    "slideshow": {
     "slide_type": "slide"
    }
   },
   "source": [
    "4. ¿Cuántos vehículos **azules** manufacturados por **Chevrolet** hay?\n"
   ]
  },
  {
   "cell_type": "code",
   "execution_count": 34,
   "id": "academic-spectacular",
   "metadata": {
    "slideshow": {
     "slide_type": "slide"
    }
   },
   "outputs": [
    {
     "name": "stdout",
     "output_type": "stream",
     "text": [
      "Existen \u001b[1m32746 registros de vehículos de color azul\u001b[0m y representan el \u001b[1m7.15% del total de registros\n"
     ]
    }
   ],
   "source": [
    "#porcentaje de registros con vehículos azules con respecto al total\n",
    "azules=ventas[ventas['paint_color']=='blue']['id'].count()\n",
    "print('Existen',\"\\033[1m\"+str(azules),'registros de vehículos de color azul'+\"\\033[0m\",\n",
    "     'y representan el '\"\\033[1m\" + str(round(azules/total*100,2))+'% del total de registros')"
   ]
  },
  {
   "cell_type": "code",
   "execution_count": 35,
   "id": "cooked-error",
   "metadata": {
    "slideshow": {
     "slide_type": "subslide"
    }
   },
   "outputs": [
    {
     "name": "stdout",
     "output_type": "stream",
     "text": [
      "Existen \u001b[1m64977 registros de vehículos manufacturados por Chevrolet\u001b[0m y representan el \u001b[1m14.18% del total\n"
     ]
    }
   ],
   "source": [
    "#porcentaje de registros con vehículos manufacturados por Chevrolet con respecto al total\n",
    "chevrolet=ventas[ventas['manufacturer']=='chevrolet']['id'].count()\n",
    "print('Existen',\"\\033[1m\"+str(chevrolet),'registros de vehículos manufacturados por Chevrolet'+\"\\033[0m\",\n",
    "     'y representan el '+\"\\033[1m\" + str(round(chevrolet/total*100,2))+'% del total')"
   ]
  },
  {
   "cell_type": "code",
   "execution_count": 36,
   "id": "important-consumer",
   "metadata": {
    "slideshow": {
     "slide_type": "slide"
    }
   },
   "outputs": [
    {
     "name": "stdout",
     "output_type": "stream",
     "text": [
      "Existen \u001b[1m4563 registros de vehículos azules manufacturados por Chevrolet\u001b[0m y representan el \u001b[1m1.0% del total de registros\u001b[0m  y \u001b[1m7.02%\u001b[0m del total de vehículos manufacturados por\u001b[1m Chevrolet\n"
     ]
    }
   ],
   "source": [
    "azul_chevrolet_filtro=ventas[(ventas['paint_color']=='blue')& (ventas['manufacturer']=='chevrolet')]\n",
    "azul_chevrolet=azul_chevrolet_filtro['id'].value_counts().sum()\n",
    "print('Existen',\"\\033[1m\"+str(azul_chevrolet),'registros de vehículos azules manufacturados por Chevrolet'+\"\\033[0m\",\n",
    "     'y representan el '\"\\033[1m\" + str(round(azul_chevrolet/total*100,2))+'% del total de registros'+\"\\033[0m\",\" y \"+\"\\033[1m\"+ \n",
    "      str(round(azul_chevrolet/chevrolet*100,2))+\n",
    "      \"%\"\"\\033[0m\",'del total de vehículos manufacturados por'+\"\\033[1m\",'Chevrolet')"
   ]
  },
  {
   "cell_type": "code",
   "execution_count": 40,
   "id": "equivalent-collective",
   "metadata": {
    "slideshow": {
     "slide_type": "slide"
    }
   },
   "outputs": [
    {
     "data": {
      "image/png": "[encoded data removed]",
      "text/plain": [
       "<Figure size 432x288 with 1 Axes>"
      ]
     },
     "metadata": {
      "needs_background": "light"
     },
     "output_type": "display_data"
    }
   ],
   "source": [
    "#Mostrar gráficamente diferencia entre registros Chevrolet azul y Chevrolet total\n",
    "azul_chevrolet_data={'chevrolet_azul':[azul_chevrolet],'chevrolet_total':[chevrolet]}\n",
    "azul_chevrolet_plt=pd.DataFrame(azul_chevrolet_data, index=['# registros']).transpose().plot.bar()\n",
    "azul_chevrolet_plt.grid(which='major')\n",
    "azul_chevrolet_plt.set_xlabel('Tipo',fontdict=dict(weight='bold'),fontsize=14)\n",
    "azul_chevrolet_plt.set_ylabel('# Registros',fontdict=dict(weight='bold'),fontsize=14)\n",
    "azul_chevrolet_plt.set_title('Vehículos Chevrolet azul vs Registros Chevrolet totales',fontdict=dict(weight='bold'),fontsize=16)\n",
    "plt.show() "
   ]
  },
  {
   "cell_type": "code",
   "execution_count": 37,
   "id": "mental-thought",
   "metadata": {
    "slideshow": {
     "slide_type": "slide"
    }
   },
   "outputs": [
    {
     "data": {
      "text/plain": [
       "blue    4563\n",
       "Name: paint_color, dtype: int64"
      ]
     },
     "execution_count": 37,
     "metadata": {},
     "output_type": "execute_result"
    }
   ],
   "source": [
    "#Verificar que el color sea azul\n",
    "azul_chevrolet_filtro['paint_color'].value_counts()"
   ]
  },
  {
   "cell_type": "code",
   "execution_count": 38,
   "id": "unavailable-bidding",
   "metadata": {
    "slideshow": {
     "slide_type": "subslide"
    }
   },
   "outputs": [
    {
     "data": {
      "text/plain": [
       "chevrolet    4563\n",
       "Name: manufacturer, dtype: int64"
      ]
     },
     "execution_count": 38,
     "metadata": {},
     "output_type": "execute_result"
    }
   ],
   "source": [
    "#Verificar que el manufacturero sea chevrolet\n",
    "azul_chevrolet_filtro['manufacturer'].value_counts()\n"
   ]
  },
  {
   "cell_type": "markdown",
   "id": "passing-greenhouse",
   "metadata": {
    "slideshow": {
     "slide_type": "slide"
    }
   },
   "source": [
    "## 3. Conclusión\n",
    "- En conclusión, este análisis nos permitió evidenciar como se comportan los registros dependiendo de características como la **región, el precio, la condición, la marca y el precio**\n",
    "- El rango de registros más común dependiendo de la región es de 3000\n",
    "- Al deshacernos de registros con **datos nulos** en alguna de sus columnas obtemenos **menos del 10%** del total de registros\n",
    "- **Menos del 20%** de registros tienen un **precio superior a 15000 dólares y una condición excelente o buena**, lo que nos puede dar una idea del tipo de carros que se venden a través de Craiglist\n",
    "- Por último, los vehículos **Chevrolet** azules no son muy comunes entre los vehículos Chevrolet vendidos en Craiglist "
   ]
  }
 ],
 "metadata": {
  "celltoolbar": "Slideshow",
  "kernelspec": {
   "display_name": "Python 3",
   "language": "python",
   "name": "python3"
  },
  "language_info": {
   "codemirror_mode": {
    "name": "ipython",
    "version": 3
   },
   "file_extension": ".py",
   "mimetype": "text/x-python",
   "name": "python",
   "nbconvert_exporter": "python",
   "pygments_lexer": "ipython3",
   "version": "3.8.6"
  }
 },
 "nbformat": 4,
 "nbformat_minor": 5
}
